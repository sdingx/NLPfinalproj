{
 "cells": [
  {
   "attachments": {},
   "cell_type": "markdown",
   "metadata": {},
   "source": [
    "# NLP Final Project\n",
    "Sam Ding"
   ]
  },
  {
   "cell_type": "code",
   "execution_count": 1,
   "metadata": {},
   "outputs": [],
   "source": [
    "# basic data analytics\n",
    "import pandas as pd\n",
    "import numpy as np\n",
    "import sklearn\n",
    "\n",
    "\n",
    "# nlp modules\n",
    "import nltk\n",
    "import spacy\n",
    "\n",
    "import multiprocessing\n",
    "import string\n",
    "\n",
    "\n",
    "import gensim\n",
    "from gensim import corpora, models\n",
    "from gensim.models.ldamulticore import LdaMulticore\n",
    "from gensim.utils import simple_preprocess\n",
    "from gensim.models import CoherenceModel\n",
    "\n",
    "import pyLDAvis\n",
    "import pyLDAvis.gensim_models as gensimvis\n",
    "pyLDAvis.enable_notebook()\n",
    "import warnings\n",
    "\n",
    "# warnings.simplefilter('once')\n",
    "warnings.simplefilter('ignore')\n",
    "\n",
    "num_processors = multiprocessing.cpu_count()\n",
    "num_processors\n",
    "\n",
    "workers = num_processors-1\n",
    "\n",
    "print(f'Using {workers} workers')"
   ]
  },
  {
   "cell_type": "code",
   "execution_count": 2,
   "metadata": {},
   "outputs": [
    {
     "name": "stdout",
     "output_type": "stream",
     "text": [
      "CPU times: user 4.69 s, sys: 4.94 s, total: 9.63 s\n",
      "Wall time: 1min 3s\n"
     ]
    },
    {
     "data": {
      "text/plain": [
       "(200332, 5)"
      ]
     },
     "execution_count": 2,
     "metadata": {},
     "output_type": "execute_result"
    }
   ],
   "source": [
    "# %%time\n",
    "\n",
    "# df_news_final_project = pd.read_parquet('https://storage.googleapis.com/msca-bdp-data-open/news_final_project/news_final_project.parquet', engine='pyarrow')\n",
    "# df_news_final_project.shape"
   ]
  },
  {
   "cell_type": "code",
   "execution_count": null,
   "metadata": {},
   "outputs": [],
   "source": [
    "# # zero-shot classification\n",
    "# import torch\n",
    "# from transformers import pipeline\n",
    "# classifier = pipeline(\"zero-shot-classification\", model=\"facebook/bart-large-mnli\")"
   ]
  },
  {
   "cell_type": "code",
   "execution_count": 18,
   "metadata": {},
   "outputs": [],
   "source": [
    "df_news_final_project = pd.read_csv('sample_600.csv', index_col=0)\n",
    "# df_news_final_project.shape"
   ]
  },
  {
   "cell_type": "code",
   "execution_count": 19,
   "metadata": {},
   "outputs": [
    {
     "data": {
      "text/html": [
       "<div>\n",
       "<style scoped>\n",
       "    .dataframe tbody tr th:only-of-type {\n",
       "        vertical-align: middle;\n",
       "    }\n",
       "\n",
       "    .dataframe tbody tr th {\n",
       "        vertical-align: top;\n",
       "    }\n",
       "\n",
       "    .dataframe thead th {\n",
       "        text-align: right;\n",
       "    }\n",
       "</style>\n",
       "<table border=\"1\" class=\"dataframe\">\n",
       "  <thead>\n",
       "    <tr style=\"text-align: right;\">\n",
       "      <th></th>\n",
       "      <th>url</th>\n",
       "      <th>date</th>\n",
       "      <th>language</th>\n",
       "      <th>title</th>\n",
       "      <th>text</th>\n",
       "    </tr>\n",
       "  </thead>\n",
       "  <tbody>\n",
       "    <tr>\n",
       "      <th>39396</th>\n",
       "      <td>https://www.wkms.org/npr-news/npr-news/2022-10...</td>\n",
       "      <td>2022-10-10</td>\n",
       "      <td>en</td>\n",
       "      <td>Artificial intelligence could soon diagnose il...</td>\n",
       "      <td>\\n\\nArtificial intelligence could soon diagnos...</td>\n",
       "    </tr>\n",
       "    <tr>\n",
       "      <th>143316</th>\n",
       "      <td>https://www.wbko.com/prnewswire/2022/08/25/ult...</td>\n",
       "      <td>2022-08-25</td>\n",
       "      <td>en</td>\n",
       "      <td>UltraSight Receives CE Mark for Novel Cardiac ...</td>\n",
       "      <td>UltraSight Receives CE Mark for Novel Cardiac ...</td>\n",
       "    </tr>\n",
       "    <tr>\n",
       "      <th>100092</th>\n",
       "      <td>https://www.marketscreener.com/quote/stock/POO...</td>\n",
       "      <td>2022-11-08</td>\n",
       "      <td>en</td>\n",
       "      <td>IN BRIEF: Poolbeg makes \"significant breakthro...</td>\n",
       "      <td>\\n\\nIN BRIEF: Poolbeg makes \"significant break...</td>\n",
       "    </tr>\n",
       "  </tbody>\n",
       "</table>\n",
       "</div>"
      ],
      "text/plain": [
       "                                                      url        date   \n",
       "39396   https://www.wkms.org/npr-news/npr-news/2022-10...  2022-10-10  \\\n",
       "143316  https://www.wbko.com/prnewswire/2022/08/25/ult...  2022-08-25   \n",
       "100092  https://www.marketscreener.com/quote/stock/POO...  2022-11-08   \n",
       "\n",
       "       language                                              title   \n",
       "39396        en  Artificial intelligence could soon diagnose il...  \\\n",
       "143316       en  UltraSight Receives CE Mark for Novel Cardiac ...   \n",
       "100092       en  IN BRIEF: Poolbeg makes \"significant breakthro...   \n",
       "\n",
       "                                                     text  \n",
       "39396   \\n\\nArtificial intelligence could soon diagnos...  \n",
       "143316  UltraSight Receives CE Mark for Novel Cardiac ...  \n",
       "100092  \\n\\nIN BRIEF: Poolbeg makes \"significant break...  "
      ]
     },
     "execution_count": 19,
     "metadata": {},
     "output_type": "execute_result"
    }
   ],
   "source": [
    "df_news_final_project.head(3)"
   ]
  },
  {
   "cell_type": "code",
   "execution_count": 21,
   "metadata": {},
   "outputs": [],
   "source": [
    "# Clean-up newlines\n",
    "df_news_final_project['text_clean'] = df_news_final_project['text'].str.replace('\\n', ' ')\n",
    "\n",
    "# clean up tabs\n",
    "df_news_final_project['text_clean'] = df_news_final_project['text_clean'].str.replace('\\t', ' ')\n",
    "\n",
    "# clean up links\n",
    "df_news_final_project['text_clean'] = df_news_final_project['text_clean'].str.replace(r'http\\S+|https\\S+|www.\\S+', '', case=False)\n",
    "\n",
    "# clean up remnants of web crawls\n",
    "df_news_final_project['text_clean'] = df_news_final_project['text_clean'].str.replace(r'&#\\d+;', '', case=False)"
   ]
  },
  {
   "cell_type": "code",
   "execution_count": 22,
   "metadata": {},
   "outputs": [
    {
     "data": {
      "text/plain": [
       "39396     Artificial intelligence could soon diagnose il...\n",
       "143316    UltraSight Receives CE Mark for Novel Cardiac ...\n",
       "100092    IN BRIEF: Poolbeg makes \"significant breakthro...\n",
       "102690    Square Peg aims for the AI sweet spot with lat...\n",
       "21501     Patch 1.04: A Wagonload of AI · Grand Tacticia...\n",
       "                                ...                        \n",
       "12183     Know the Future Opportunities of AI Baby Monit...\n",
       "69983        EMERGE Consortium awarded grant by European...\n",
       "9710      Pinecone Recognized as a 2021 Gartner® Cool Ve...\n",
       "45140     DataRobot and Hexaware Collaborate to Help Cus...\n",
       "150157    How the KU community feels about ChatGPT and w...\n",
       "Name: title, Length: 600, dtype: object"
      ]
     },
     "execution_count": 22,
     "metadata": {},
     "output_type": "execute_result"
    }
   ],
   "source": [
    "df_news_final_project['title']"
   ]
  },
  {
   "cell_type": "code",
   "execution_count": 21,
   "metadata": {},
   "outputs": [],
   "source": [
    "# NER\n",
    "nlp = spacy.load(\"en_core_web_sm\")\n",
    "\n",
    "indexlist = []\n",
    "entities = []\n",
    "labels = []\n",
    "\n",
    "docs = nlp.pipe(\n",
    "    df_news_final_project['title'].tolist(),\n",
    "    disable=[\"tok2vec\", \"tagger\", \"parser\", \"attribute_ruler\", \"lemmatizer\"],\n",
    "    batch_size=200,\n",
    "    n_process=2\n",
    ")\n",
    "\n",
    "for i, doc in enumerate(docs):\n",
    "    index = df_news_final_project.index[i]\n",
    "    for ent in doc.ents:\n",
    "        indexlist.append(index)\n",
    "        entities.append(ent.text)\n",
    "        labels.append(ent.label_)\n",
    "\n",
    "\n",
    "ner_df = pd.DataFrame({\"Index\": indexlist, \"Entities\":entities,'Labels':labels})"
   ]
  },
  {
   "cell_type": "code",
   "execution_count": 30,
   "metadata": {},
   "outputs": [
    {
     "data": {
      "text/html": [
       "<div>\n",
       "<style scoped>\n",
       "    .dataframe tbody tr th:only-of-type {\n",
       "        vertical-align: middle;\n",
       "    }\n",
       "\n",
       "    .dataframe tbody tr th {\n",
       "        vertical-align: top;\n",
       "    }\n",
       "\n",
       "    .dataframe thead th {\n",
       "        text-align: right;\n",
       "    }\n",
       "</style>\n",
       "<table border=\"1\" class=\"dataframe\">\n",
       "  <thead>\n",
       "    <tr style=\"text-align: right;\">\n",
       "      <th></th>\n",
       "      <th>Index</th>\n",
       "      <th>Entities</th>\n",
       "      <th>Labels</th>\n",
       "    </tr>\n",
       "  </thead>\n",
       "  <tbody>\n",
       "    <tr>\n",
       "      <th>0</th>\n",
       "      <td>196584</td>\n",
       "      <td>MBA</td>\n",
       "      <td>WORK_OF_ART</td>\n",
       "    </tr>\n",
       "    <tr>\n",
       "      <th>1</th>\n",
       "      <td>70131</td>\n",
       "      <td>Ferrum Health</td>\n",
       "      <td>ORG</td>\n",
       "    </tr>\n",
       "    <tr>\n",
       "      <th>2</th>\n",
       "      <td>70131</td>\n",
       "      <td>$6 Million</td>\n",
       "      <td>MONEY</td>\n",
       "    </tr>\n",
       "    <tr>\n",
       "      <th>3</th>\n",
       "      <td>70131</td>\n",
       "      <td>Healthcare</td>\n",
       "      <td>ORG</td>\n",
       "    </tr>\n",
       "    <tr>\n",
       "      <th>4</th>\n",
       "      <td>98725</td>\n",
       "      <td>10</td>\n",
       "      <td>CARDINAL</td>\n",
       "    </tr>\n",
       "    <tr>\n",
       "      <th>...</th>\n",
       "      <td>...</td>\n",
       "      <td>...</td>\n",
       "      <td>...</td>\n",
       "    </tr>\n",
       "    <tr>\n",
       "      <th>1237</th>\n",
       "      <td>125981</td>\n",
       "      <td>Replaced Crypto</td>\n",
       "      <td>PERSON</td>\n",
       "    </tr>\n",
       "    <tr>\n",
       "      <th>1238</th>\n",
       "      <td>125981</td>\n",
       "      <td>the Hot Tech Topic of</td>\n",
       "      <td>ORG</td>\n",
       "    </tr>\n",
       "    <tr>\n",
       "      <th>1239</th>\n",
       "      <td>125981</td>\n",
       "      <td>Davos</td>\n",
       "      <td>GPE</td>\n",
       "    </tr>\n",
       "    <tr>\n",
       "      <th>1240</th>\n",
       "      <td>125981</td>\n",
       "      <td>NBC</td>\n",
       "      <td>ORG</td>\n",
       "    </tr>\n",
       "    <tr>\n",
       "      <th>1241</th>\n",
       "      <td>125981</td>\n",
       "      <td>Chicago</td>\n",
       "      <td>GPE</td>\n",
       "    </tr>\n",
       "  </tbody>\n",
       "</table>\n",
       "<p>1242 rows × 3 columns</p>\n",
       "</div>"
      ],
      "text/plain": [
       "       Index               Entities       Labels\n",
       "0     196584                    MBA  WORK_OF_ART\n",
       "1      70131          Ferrum Health          ORG\n",
       "2      70131             $6 Million        MONEY\n",
       "3      70131             Healthcare          ORG\n",
       "4      98725                     10     CARDINAL\n",
       "...      ...                    ...          ...\n",
       "1237  125981        Replaced Crypto       PERSON\n",
       "1238  125981  the Hot Tech Topic of          ORG\n",
       "1239  125981                  Davos          GPE\n",
       "1240  125981                    NBC          ORG\n",
       "1241  125981                Chicago          GPE\n",
       "\n",
       "[1242 rows x 3 columns]"
      ]
     },
     "execution_count": 30,
     "metadata": {},
     "output_type": "execute_result"
    }
   ],
   "source": [
    "ner_df"
   ]
  },
  {
   "cell_type": "code",
   "execution_count": 31,
   "metadata": {},
   "outputs": [
    {
     "data": {
      "text/plain": [
       "196584    Could AI pass an MBA exam at an Ivy League uni...\n",
       "165334    Kootenay Silver Announces Drill Results From C...\n",
       "189220              Novel AI Tool To Thwart Covid Mutations\n",
       "52969                Singer-songwriter, bard Hall, 85, dies\n",
       "32886     Russia-Ukraine War: AI Has An Eight-Point Peac...\n",
       "                                ...                        \n",
       "31231     Decentralized Machine Learning Price Tops $0.0...\n",
       "86090     OpenAI: ChatGPT back in Italy after meeting wa...\n",
       "52514     Europe’s technology industry top artificial in...\n",
       "25009     We asked ChatGPT and Bing 20 different questio...\n",
       "17043     Artificial intelligence weapons invites ‘moral...\n",
       "Name: title, Length: 110, dtype: object"
      ]
     },
     "execution_count": 31,
     "metadata": {},
     "output_type": "execute_result"
    }
   ],
   "source": [
    "# find indexes where labels have no ORG\n",
    "\n",
    "with_org_list = list(ner_df[ner_df['Labels'] == 'ORG']['Index'].unique())\n",
    "\n",
    "no_org_list = list(set(df_news_final_project.index) - set(with_org_list))\n",
    "\n",
    "# get the text for those indexes\n",
    "\n",
    "df_news_final_project[df_news_final_project.index.isin(no_org_list)]['title']"
   ]
  },
  {
   "cell_type": "code",
   "execution_count": null,
   "metadata": {},
   "outputs": [],
   "source": []
  }
 ],
 "metadata": {
  "kernelspec": {
   "display_name": ".env",
   "language": "python",
   "name": "python3"
  },
  "language_info": {
   "codemirror_mode": {
    "name": "ipython",
    "version": 3
   },
   "file_extension": ".py",
   "mimetype": "text/x-python",
   "name": "python",
   "nbconvert_exporter": "python",
   "pygments_lexer": "ipython3",
   "version": "3.9.12"
  },
  "orig_nbformat": 4
 },
 "nbformat": 4,
 "nbformat_minor": 2
}
