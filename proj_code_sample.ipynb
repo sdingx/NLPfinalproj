{
 "cells": [
  {
   "attachments": {},
   "cell_type": "markdown",
   "metadata": {},
   "source": [
    "# NLP Final Project\n",
    "Sam Ding"
   ]
  },
  {
   "cell_type": "code",
   "execution_count": 158,
   "metadata": {},
   "outputs": [
    {
     "name": "stdout",
     "output_type": "stream",
     "text": [
      "Using 7 workers\n"
     ]
    }
   ],
   "source": [
    "# basic data analytics\n",
    "import pandas as pd\n",
    "import numpy as np\n",
    "import sklearn\n",
    "import pickle\n",
    "\n",
    "# nlp modules\n",
    "import nltk\n",
    "import spacy\n",
    "import re\n",
    "\n",
    "import multiprocessing\n",
    "import string\n",
    "\n",
    "from sklearn.feature_extraction.text import CountVectorizer, HashingVectorizer, TfidfTransformer, TfidfVectorizer\n",
    "\n",
    "\n",
    "import gensim\n",
    "from gensim import corpora, models\n",
    "from gensim.models.ldamulticore import LdaMulticore\n",
    "from gensim.utils import simple_preprocess\n",
    "from gensim.models import CoherenceModel\n",
    "\n",
    "import pyLDAvis\n",
    "import pyLDAvis.gensim_models as gensimvis\n",
    "pyLDAvis.enable_notebook()\n",
    "import warnings\n",
    "\n",
    "# warnings.simplefilter('once')\n",
    "warnings.simplefilter('ignore')\n",
    "\n",
    "num_processors = multiprocessing.cpu_count()\n",
    "num_processors\n",
    "\n",
    "workers = num_processors-1\n",
    "\n",
    "print(f'Using {workers} workers')"
   ]
  },
  {
   "cell_type": "code",
   "execution_count": 159,
   "metadata": {},
   "outputs": [],
   "source": [
    "# %%time\n",
    "\n",
    "# df_news_final_project = pd.read_parquet('https://storage.googleapis.com/msca-bdp-data-open/news_final_project/news_final_project.parquet', engine='pyarrow')\n",
    "# df_news_final_project.shape"
   ]
  },
  {
   "cell_type": "code",
   "execution_count": 160,
   "metadata": {},
   "outputs": [],
   "source": [
    "# # zero-shot classification\n",
    "# import torch\n",
    "# from transformers import pipeline\n",
    "# classifier = pipeline(\"zero-shot-classification\", model=\"facebook/bart-large-mnli\")"
   ]
  },
  {
   "cell_type": "code",
   "execution_count": 161,
   "metadata": {},
   "outputs": [],
   "source": [
    "df_news_final_project = pd.read_csv('sample_600.csv', index_col=0)\n",
    "# df_news_final_project.shape"
   ]
  },
  {
   "cell_type": "code",
   "execution_count": 162,
   "metadata": {},
   "outputs": [
    {
     "data": {
      "text/html": [
       "<div>\n",
       "<style scoped>\n",
       "    .dataframe tbody tr th:only-of-type {\n",
       "        vertical-align: middle;\n",
       "    }\n",
       "\n",
       "    .dataframe tbody tr th {\n",
       "        vertical-align: top;\n",
       "    }\n",
       "\n",
       "    .dataframe thead th {\n",
       "        text-align: right;\n",
       "    }\n",
       "</style>\n",
       "<table border=\"1\" class=\"dataframe\">\n",
       "  <thead>\n",
       "    <tr style=\"text-align: right;\">\n",
       "      <th></th>\n",
       "      <th>url</th>\n",
       "      <th>date</th>\n",
       "      <th>language</th>\n",
       "      <th>title</th>\n",
       "      <th>text</th>\n",
       "    </tr>\n",
       "  </thead>\n",
       "  <tbody>\n",
       "    <tr>\n",
       "      <th>39396</th>\n",
       "      <td>https://www.wkms.org/npr-news/npr-news/2022-10...</td>\n",
       "      <td>2022-10-10</td>\n",
       "      <td>en</td>\n",
       "      <td>Artificial intelligence could soon diagnose il...</td>\n",
       "      <td>\\n\\nArtificial intelligence could soon diagnos...</td>\n",
       "    </tr>\n",
       "    <tr>\n",
       "      <th>143316</th>\n",
       "      <td>https://www.wbko.com/prnewswire/2022/08/25/ult...</td>\n",
       "      <td>2022-08-25</td>\n",
       "      <td>en</td>\n",
       "      <td>UltraSight Receives CE Mark for Novel Cardiac ...</td>\n",
       "      <td>UltraSight Receives CE Mark for Novel Cardiac ...</td>\n",
       "    </tr>\n",
       "    <tr>\n",
       "      <th>100092</th>\n",
       "      <td>https://www.marketscreener.com/quote/stock/POO...</td>\n",
       "      <td>2022-11-08</td>\n",
       "      <td>en</td>\n",
       "      <td>IN BRIEF: Poolbeg makes \"significant breakthro...</td>\n",
       "      <td>\\n\\nIN BRIEF: Poolbeg makes \"significant break...</td>\n",
       "    </tr>\n",
       "  </tbody>\n",
       "</table>\n",
       "</div>"
      ],
      "text/plain": [
       "                                                      url        date   \n",
       "39396   https://www.wkms.org/npr-news/npr-news/2022-10...  2022-10-10  \\\n",
       "143316  https://www.wbko.com/prnewswire/2022/08/25/ult...  2022-08-25   \n",
       "100092  https://www.marketscreener.com/quote/stock/POO...  2022-11-08   \n",
       "\n",
       "       language                                              title   \n",
       "39396        en  Artificial intelligence could soon diagnose il...  \\\n",
       "143316       en  UltraSight Receives CE Mark for Novel Cardiac ...   \n",
       "100092       en  IN BRIEF: Poolbeg makes \"significant breakthro...   \n",
       "\n",
       "                                                     text  \n",
       "39396   \\n\\nArtificial intelligence could soon diagnos...  \n",
       "143316  UltraSight Receives CE Mark for Novel Cardiac ...  \n",
       "100092  \\n\\nIN BRIEF: Poolbeg makes \"significant break...  "
      ]
     },
     "execution_count": 162,
     "metadata": {},
     "output_type": "execute_result"
    }
   ],
   "source": [
    "df_news_final_project.head(3)"
   ]
  },
  {
   "cell_type": "code",
   "execution_count": 163,
   "metadata": {},
   "outputs": [],
   "source": [
    "# Clean-up newlines\n",
    "df_news_final_project['text_clean'] = df_news_final_project['text'].str.replace('\\n', ' ')\n",
    "\n",
    "# clean up tabs\n",
    "df_news_final_project['text_clean'] = df_news_final_project['text_clean'].str.replace('\\t', ' ')\n",
    "\n",
    "# clean up links\n",
    "df_news_final_project['text_clean'] = df_news_final_project['text_clean'].str.replace(r'http\\S+|https\\S+|www.\\S+', '', case=False)\n",
    "\n",
    "# clean up remnants of web crawls\n",
    "df_news_final_project['text_clean'] = df_news_final_project['text_clean'].str.replace(r'&#\\d+;', '', case=False)"
   ]
  },
  {
   "cell_type": "code",
   "execution_count": 164,
   "metadata": {},
   "outputs": [
    {
     "data": {
      "text/plain": [
       "'Data Science & Strategy Firm Schireson Acquires Stun Creative & Blackbird To Form \"Known\" -- A New Breed Of Modern Marketing Company'"
      ]
     },
     "execution_count": 164,
     "metadata": {},
     "output_type": "execute_result"
    }
   ],
   "source": [
    "df_news_final_project['title'].iloc[10]"
   ]
  },
  {
   "cell_type": "code",
   "execution_count": 165,
   "metadata": {},
   "outputs": [],
   "source": [
    "# NER\n",
    "nlp = spacy.load(\"en_core_web_md\")\n",
    "\n",
    "indexlist = []\n",
    "entities = []\n",
    "labels = []\n",
    "\n",
    "docs = nlp.pipe(\n",
    "    df_news_final_project['title'].tolist(),\n",
    "    disable=[\"tok2vec\", \"tagger\", \"parser\", \"attribute_ruler\", \"lemmatizer\"],\n",
    "    batch_size=200,\n",
    "    n_process=2\n",
    ")\n",
    "\n",
    "for i, doc in enumerate(docs):\n",
    "    index = df_news_final_project.index[i]\n",
    "    for ent in doc.ents:\n",
    "        indexlist.append(index)\n",
    "        entities.append(ent.text)\n",
    "        labels.append(ent.label_)\n",
    "\n",
    "\n",
    "ner_df = pd.DataFrame({\"Index\": indexlist, \"Entities\":entities,'Labels':labels})"
   ]
  },
  {
   "cell_type": "code",
   "execution_count": 166,
   "metadata": {},
   "outputs": [
    {
     "data": {
      "text/html": [
       "<div>\n",
       "<style scoped>\n",
       "    .dataframe tbody tr th:only-of-type {\n",
       "        vertical-align: middle;\n",
       "    }\n",
       "\n",
       "    .dataframe tbody tr th {\n",
       "        vertical-align: top;\n",
       "    }\n",
       "\n",
       "    .dataframe thead th {\n",
       "        text-align: right;\n",
       "    }\n",
       "</style>\n",
       "<table border=\"1\" class=\"dataframe\">\n",
       "  <thead>\n",
       "    <tr style=\"text-align: right;\">\n",
       "      <th></th>\n",
       "      <th>Index</th>\n",
       "      <th>Entities</th>\n",
       "      <th>Labels</th>\n",
       "    </tr>\n",
       "  </thead>\n",
       "  <tbody>\n",
       "    <tr>\n",
       "      <th>0</th>\n",
       "      <td>143316</td>\n",
       "      <td>UltraSight</td>\n",
       "      <td>ORG</td>\n",
       "    </tr>\n",
       "    <tr>\n",
       "      <th>1</th>\n",
       "      <td>143316</td>\n",
       "      <td>CE Mark</td>\n",
       "      <td>PERSON</td>\n",
       "    </tr>\n",
       "    <tr>\n",
       "      <th>2</th>\n",
       "      <td>102690</td>\n",
       "      <td>Square Peg</td>\n",
       "      <td>PERSON</td>\n",
       "    </tr>\n",
       "    <tr>\n",
       "      <th>3</th>\n",
       "      <td>102690</td>\n",
       "      <td>AI</td>\n",
       "      <td>ORG</td>\n",
       "    </tr>\n",
       "    <tr>\n",
       "      <th>4</th>\n",
       "      <td>21501</td>\n",
       "      <td>1.04</td>\n",
       "      <td>CARDINAL</td>\n",
       "    </tr>\n",
       "    <tr>\n",
       "      <th>...</th>\n",
       "      <td>...</td>\n",
       "      <td>...</td>\n",
       "      <td>...</td>\n",
       "    </tr>\n",
       "    <tr>\n",
       "      <th>1333</th>\n",
       "      <td>9710</td>\n",
       "      <td>Artificial Intelligence and Machine Learning</td>\n",
       "      <td>ORG</td>\n",
       "    </tr>\n",
       "    <tr>\n",
       "      <th>1334</th>\n",
       "      <td>45140</td>\n",
       "      <td>Hexaware Collaborate to</td>\n",
       "      <td>ORG</td>\n",
       "    </tr>\n",
       "    <tr>\n",
       "      <th>1335</th>\n",
       "      <td>45140</td>\n",
       "      <td>Help Customers Accelerate</td>\n",
       "      <td>ORG</td>\n",
       "    </tr>\n",
       "    <tr>\n",
       "      <th>1336</th>\n",
       "      <td>45140</td>\n",
       "      <td>Journey</td>\n",
       "      <td>PRODUCT</td>\n",
       "    </tr>\n",
       "    <tr>\n",
       "      <th>1337</th>\n",
       "      <td>150157</td>\n",
       "      <td>KU</td>\n",
       "      <td>PRODUCT</td>\n",
       "    </tr>\n",
       "  </tbody>\n",
       "</table>\n",
       "<p>1338 rows × 3 columns</p>\n",
       "</div>"
      ],
      "text/plain": [
       "       Index                                      Entities    Labels\n",
       "0     143316                                    UltraSight       ORG\n",
       "1     143316                                       CE Mark    PERSON\n",
       "2     102690                                    Square Peg    PERSON\n",
       "3     102690                                            AI       ORG\n",
       "4      21501                                          1.04  CARDINAL\n",
       "...      ...                                           ...       ...\n",
       "1333    9710  Artificial Intelligence and Machine Learning       ORG\n",
       "1334   45140                       Hexaware Collaborate to       ORG\n",
       "1335   45140                     Help Customers Accelerate       ORG\n",
       "1336   45140                                       Journey   PRODUCT\n",
       "1337  150157                                            KU   PRODUCT\n",
       "\n",
       "[1338 rows x 3 columns]"
      ]
     },
     "execution_count": 166,
     "metadata": {},
     "output_type": "execute_result"
    }
   ],
   "source": [
    "ner_df"
   ]
  },
  {
   "cell_type": "code",
   "execution_count": 167,
   "metadata": {},
   "outputs": [
    {
     "data": {
      "text/plain": [
       "39396     Artificial intelligence could soon diagnose il...\n",
       "100092    IN BRIEF: Poolbeg makes \"significant breakthro...\n",
       "21501     Patch 1.04: A Wagonload of AI · Grand Tacticia...\n",
       "83882     Mohammad Hosseini: Should we bring AI into hos...\n",
       "151392    SHUTTERSTOCK PARTNERS WITH OPENAI AND LEADS TH...\n",
       "                                ...                        \n",
       "9820          Artificial Intelligence Wish List - NewsBreak\n",
       "119656    Rockies' trade deadline: Trevor Story, Jon Gra...\n",
       "129684    Can ChatGPT help with investments if you want ...\n",
       "117860    BuzzFeed to use artificial intelligence for co...\n",
       "150157    How the KU community feels about ChatGPT and w...\n",
       "Name: title, Length: 171, dtype: object"
      ]
     },
     "execution_count": 167,
     "metadata": {},
     "output_type": "execute_result"
    }
   ],
   "source": [
    "# find indexes where labels have no ORG\n",
    "\n",
    "with_org_list = list(ner_df[ner_df['Labels'] == 'ORG']['Index'].unique())\n",
    "\n",
    "no_org_list = list(set(df_news_final_project.index) - set(with_org_list))\n",
    "\n",
    "# get the title for those indexes\n",
    "\n",
    "df_news_final_project[df_news_final_project.index.isin(no_org_list)]['title']"
   ]
  },
  {
   "cell_type": "code",
   "execution_count": 168,
   "metadata": {},
   "outputs": [
    {
     "data": {
      "text/html": [
       "<div>\n",
       "<style scoped>\n",
       "    .dataframe tbody tr th:only-of-type {\n",
       "        vertical-align: middle;\n",
       "    }\n",
       "\n",
       "    .dataframe tbody tr th {\n",
       "        vertical-align: top;\n",
       "    }\n",
       "\n",
       "    .dataframe thead th {\n",
       "        text-align: right;\n",
       "    }\n",
       "</style>\n",
       "<table border=\"1\" class=\"dataframe\">\n",
       "  <thead>\n",
       "    <tr style=\"text-align: right;\">\n",
       "      <th></th>\n",
       "      <th>url</th>\n",
       "      <th>date</th>\n",
       "      <th>language</th>\n",
       "      <th>title</th>\n",
       "      <th>text</th>\n",
       "      <th>text_clean</th>\n",
       "    </tr>\n",
       "  </thead>\n",
       "  <tbody>\n",
       "    <tr>\n",
       "      <th>39396</th>\n",
       "      <td>https://www.wkms.org/npr-news/npr-news/2022-10...</td>\n",
       "      <td>2022-10-10</td>\n",
       "      <td>en</td>\n",
       "      <td>Artificial intelligence could soon diagnose il...</td>\n",
       "      <td>\\n\\nArtificial intelligence could soon diagnos...</td>\n",
       "      <td>Artificial intelligence could soon diagnose ...</td>\n",
       "    </tr>\n",
       "    <tr>\n",
       "      <th>143316</th>\n",
       "      <td>https://www.wbko.com/prnewswire/2022/08/25/ult...</td>\n",
       "      <td>2022-08-25</td>\n",
       "      <td>en</td>\n",
       "      <td>UltraSight Receives CE Mark for Novel Cardiac ...</td>\n",
       "      <td>UltraSight Receives CE Mark for Novel Cardiac ...</td>\n",
       "      <td>UltraSight Receives CE Mark for Novel Cardiac ...</td>\n",
       "    </tr>\n",
       "  </tbody>\n",
       "</table>\n",
       "</div>"
      ],
      "text/plain": [
       "                                                      url        date   \n",
       "39396   https://www.wkms.org/npr-news/npr-news/2022-10...  2022-10-10  \\\n",
       "143316  https://www.wbko.com/prnewswire/2022/08/25/ult...  2022-08-25   \n",
       "\n",
       "       language                                              title   \n",
       "39396        en  Artificial intelligence could soon diagnose il...  \\\n",
       "143316       en  UltraSight Receives CE Mark for Novel Cardiac ...   \n",
       "\n",
       "                                                     text   \n",
       "39396   \\n\\nArtificial intelligence could soon diagnos...  \\\n",
       "143316  UltraSight Receives CE Mark for Novel Cardiac ...   \n",
       "\n",
       "                                               text_clean  \n",
       "39396     Artificial intelligence could soon diagnose ...  \n",
       "143316  UltraSight Receives CE Mark for Novel Cardiac ...  "
      ]
     },
     "execution_count": 168,
     "metadata": {},
     "output_type": "execute_result"
    }
   ],
   "source": [
    "df_news_final_project.head(2)"
   ]
  },
  {
   "cell_type": "code",
   "execution_count": 169,
   "metadata": {},
   "outputs": [],
   "source": [
    "notitle = []\n",
    "for i in df_news_final_project.index.values:\n",
    "    notitle.append(df_news_final_project['text_clean'][i].replace(df_news_final_project['title'][i], 'Hahahah 23, 2026')) # replace by this chunk so title can also be split by pattern\n",
    "\n",
    "df_news_final_project['text_notitle'] = notitle\n"
   ]
  },
  {
   "cell_type": "code",
   "execution_count": 170,
   "metadata": {},
   "outputs": [],
   "source": [
    "pattern = r'(\\w{3,10}\\.*\\s\\d{1,2}\\,*\\s20\\d{2})|(\\d{1,2}\\s\\w{3,10}\\.*\\s20\\d{2})'\n",
    "df_news_final_project['split'] = df_news_final_project['text_notitle'].apply(lambda x: re.split(pattern=pattern, string=x))\n",
    "df_news_final_project['split_len'] = df_news_final_project['split'].apply(lambda x: len(x))"
   ]
  },
  {
   "attachments": {},
   "cell_type": "markdown",
   "metadata": {},
   "source": [
    "len 1 was 116, after new pattern 78, after new pattern all splitable."
   ]
  },
  {
   "cell_type": "code",
   "execution_count": 202,
   "metadata": {},
   "outputs": [],
   "source": [
    "from sklearn.metrics.pairwise import cosine_similarity\n",
    "from sklearn.feature_extraction.text import TfidfVectorizer\n",
    "\n",
    "def get_most_similar(index):\n",
    "    '''\n",
    "    This function takes in an index of the dataframe and returns the most similar text to the title,\n",
    "    filtering out other unnecessary texts.\n",
    "    '''\n",
    "\n",
    "    title = df_news_final_project['title'][index]\n",
    "    texts = df_news_final_project['split'][index]\n",
    "\n",
    "    # compare capital letters and periods, drop if there are more capital letters in the texts\n",
    "    texts = [x for x in texts if x != None]\n",
    "\n",
    "    # if there are more periods than capital letters, drop. \n",
    "    # This means that it could be an item of many tabs than actual content\n",
    "    texts = [x for x in texts if x.count('.') > x.count(r'[A-Z]')]\n",
    "\n",
    "    # take out texts that are too short\n",
    "    texts = [x for x in texts if len(x) > 600]\n",
    "\n",
    "    # drop texts with Tab patterns\n",
    "    pattern = r'([A-Z][a-z]+(\\n|\\t|\\s)+){3}'\n",
    "    texts = [x for x in texts if re.search(pattern, x) != None]\n",
    "\n",
    "    # return NA if there are no text splits left\n",
    "    if len(texts) == 0:\n",
    "        return np.nan\n",
    "\n",
    "    # Tokenize the title and texts\n",
    "    tokenized_title = nltk.word_tokenize(title.lower())\n",
    "    tokenized_texts = [nltk.word_tokenize(text.lower()) for text in texts]\n",
    "\n",
    "    # Convert the tokenized texts to strings\n",
    "    text_strings = [' '.join(tokens) for tokens in tokenized_texts]\n",
    "\n",
    "    most_similar_index = 0\n",
    "    try:\n",
    "        # Create a TF-IDF vectorizer and fit it to the text strings\n",
    "        vectorizer = TfidfVectorizer()\n",
    "        tfidf_matrix = vectorizer.fit_transform(text_strings)\n",
    "\n",
    "        # Compute the cosine similarity between the title and each text\n",
    "        title_vector = vectorizer.transform([' '.join(tokenized_title)])\n",
    "        similarity_scores = cosine_similarity(title_vector, tfidf_matrix)\n",
    "\n",
    "        # Find the index of the text with the highest similarity score\n",
    "        most_similar_index = similarity_scores.argmax()\n",
    "        \n",
    "    except:\n",
    "        pass\n",
    "    # keep most similar text\n",
    "    return texts[most_similar_index]\n"
   ]
  },
  {
   "cell_type": "code",
   "execution_count": 203,
   "metadata": {},
   "outputs": [],
   "source": [
    "most_similar = []\n",
    "\n",
    "for i in df_news_final_project.index.values:\n",
    "    most_similar.append(get_most_similar(i))"
   ]
  },
  {
   "cell_type": "code",
   "execution_count": 204,
   "metadata": {},
   "outputs": [],
   "source": [
    "df_news_final_project['text_clean'] = most_similar"
   ]
  },
  {
   "cell_type": "code",
   "execution_count": 205,
   "metadata": {},
   "outputs": [
    {
     "data": {
      "text/plain": [
       "'SECO invests in the Artificial Intelligence of Oro Networks'"
      ]
     },
     "execution_count": 205,
     "metadata": {},
     "output_type": "execute_result"
    }
   ],
   "source": [
    "df_news_final_project.iloc[324]['title']"
   ]
  },
  {
   "cell_type": "code",
   "execution_count": 208,
   "metadata": {},
   "outputs": [
    {
     "data": {
      "text/plain": [
       "'\\n\\n \\n\\nSECO invests in the Artificial Intelligence of Oro Networks\\nResources\\n \\nBlog\\n\\n\\nJournalists\\nLog In\\n \\nSign Up\\n \\nData Privacy\\n\\n\\nSend a Release\\n \\nNews\\n\\n\\nProducts \\nOverview\\n\\n\\nDistribution by PR Newswire\\n\\n\\nCision Communications Cloud®\\n\\n\\nCision IR\\n\\n\\nAll Products\\n\\nContact \\nGeneral Inquiries\\n\\n\\nRequest a Demo\\n\\n\\nEditorial Bureaus\\n\\n\\nPartnerships\\n\\n\\nMedia Inquiries\\n\\n\\nWorldwide Offices\\n\\nSearch\\n\\xa0\\nSearch\\nWhen typing in this field, a list of search results will appear and be automatically updated as you type.\\n\\nSearching for your content...\\nNo results found. Please change your search terms and try again.\\n\\n\\n \\nNews in Focus\\n\\nBrowse News Releases\\n\\nAll News Releases\\nAll Public Company\\nEnglish-only\\n\\n\\nNews Releases Overview \\n\\nMultimedia Gallery\\n\\nAll Multimedia\\nAll Photos\\nAll Videos\\n\\n\\n  Multimedia Gallery Overview \\n\\nTrending Topics\\n\\nAll Trending Topics\\nBusiness & Money\\n\\n\\nAuto & TransportationAll Automotive & Transportation\\nAerospace, Defense\\nAir Freight\\nAirlines & Aviation\\nAutomotive\\nMaritime & Shipbuilding\\nRailroads and Intermodal Transportation\\nSupply Chain/Logistics\\nTransportation, Trucking & Railroad\\nTravel\\nTrucking and Road Transportation\\nAuto & Transportation Overview\\nBusiness TechnologyAll Business Technology\\nBlockchain\\nBroadcast Tech\\nComputer & Electronics\\nComputer Hardware\\nComputer Software\\nData Analytics\\nElectronic Commerce\\nElectronic Components\\nElectronic Design Automation\\nFinancial Technology\\nHigh Tech Security\\nInternet Technology\\nNanotechnology\\nNetworks\\nPeripherals\\nSemiconductors\\nBusiness Technology Overview\\nEntertain\\xadment & MediaAll Entertain\\xadment & Media\\nAdvertising\\nArt\\nBooks\\nEntertainment\\nFilm and Motion Picture\\nMagazines\\nMusic\\nPublishing & Information Services\\nRadio & Podcast\\nTelevision\\nEntertain\\xadment & Media Overview\\nFinancial Services & InvestingAll Financial Services & Investing\\nAccounting News & Issues\\nAcquisitions, Mergers and Takeovers\\nBanking & Financial Services\\nBankruptcy\\nBond & Stock Ratings\\nConference Call Announcements\\nContracts\\nCryptocurrency\\nDividends\\nEarnings\\nEarnings Forecasts & Projections\\nFinancing Agreements\\nInsurance\\nInvestments Opinions\\nJoint Ventures\\nMutual Funds\\nPrivate Placement\\nReal Estate\\nRestructuring & Recapitalization\\nSales Reports\\nShareholder Activism\\nStock Offering\\nStock Split\\nVenture Capital\\nFinancial Services & Investing Overview\\nGeneral BusinessAll General Business\\nAwards\\nCommercial Real Estate\\nCorporate Expansion\\nEarnings\\nHuman Resource & Workforce Management\\nLicensing\\nNew Products & Services\\nObituaries\\nOutsourcing Businesses\\nOverseas Real Estate (non-US)\\nPersonnel Announcements\\nReal Estate Transactions\\nResidential Real Estate\\nSmall Business Services\\nSocially Responsible Investing\\nSurveys, Polls and Research\\nTrade Show News\\nGeneral Business Overview\\n\\nScience & Tech\\n\\n\\nConsumer TechnologyAll Consumer Technology\\nArtificial Intelligence\\nBlockchain\\nCloud Computing/Internet of Things\\nComputer Electronics\\nComputer Hardware\\nComputer Software\\nConsumer Electronics\\nCryptocurrency\\nData Analytics\\nElectronic Commerce\\nElectronic Gaming\\nFinancial Technology\\nMobile Entertainment\\nMultimedia & Internet\\nPeripherals\\nSocial Media\\nSTEM (Science, Tech, Engineering, Math)\\nSupply Chain/Logistics\\nWireless Communications\\nConsumer Technology Overview\\nEnergy & Natural ResourcesAll Energy\\nAlternative Energies\\nChemical\\nElectrical Utilities\\nGas\\nGeneral Manufacturing\\nMining\\nMining & Metals\\nOil & Energy\\nOil and Gas Discoveries\\nUtilities\\nWater Utilities\\nEnergy & Natural Resources Overview\\nEnviron\\xadmentAll Environ\\xadment\\nConservation & Recycling\\nEnvironmental Issues\\nEnvironmental Policy\\nEnvironmental Products & Services\\nGreen Technology\\nNatural Disasters\\nEnviron\\xadment Overview\\nHeavy Industry & ManufacturingAll Heavy Industry & Manufacturing\\nAerospace & Defense\\nAgriculture\\nChemical\\nConstruction & Building\\nGeneral Manufacturing\\nHVAC (Heating, Ventilation and Air-Conditioning)\\nMachinery\\nMachine Tools, Metalworking and Metallurgy\\nMining\\nMining & Metals\\nPaper, Forest Products & Containers\\nPrecious Metals\\nTextiles\\nTobacco\\nHeavy Industry & Manufacturing Overview\\nTelecomm\\xadunicationsAll Telecomm\\xadunications\\nCarriers and Services\\nMobile Entertainment\\nNetworks\\nPeripherals\\nTelecommunications Equipment\\nTelecommunications Industry\\nVoIP (Voice over Internet Protocol)\\nWireless Communications\\nTelecomm\\xadunications Overview\\n\\nLifestyle & Health\\n\\n\\nConsumer Products & RetailAll Consumer Products & Retail\\nAnimals & Pets\\nBeers, Wines and Spirits\\nBeverages\\nBridal Services\\nCannabis\\nCosmetics and Personal Care\\nFashion\\nFood & Beverages\\nFurniture and Furnishings\\nHome Improvement\\nHousehold, Consumer & Cosmetics\\nHousehold Products\\nJewelry\\nNon-Alcoholic Beverages\\nOffice Products\\nOrganic Food\\nProduct Recalls\\nRestaurants\\nRetail\\nSupermarkets\\nToys\\nConsumer Products & Retail Overview\\nEntertain\\xadment & MediaAll Entertain\\xadment & Media\\nAdvertising\\nArt\\nBooks\\nEntertainment\\nFilm and Motion Picture\\nMagazines\\nMusic\\nPublishing & Information Services\\nRadio & Podcast\\nTelevision\\nEntertain\\xadment & Media Overview\\nHealthAll Health\\nBiometrics\\nBiotechnology\\nClinical Trials & Medical Discoveries\\nDentistry\\nFDA Approval\\nFitness/Wellness\\nHealth Care & Hospitals\\nHealth Insurance\\nInfection Control\\nInternational Medical Approval\\nMedical Equipment\\nMedical Pharmaceuticals\\nMental Health\\nPharmaceuticals\\nSupplementary Medicine\\nHealth Overview\\nSportsAll Sports\\nGeneral Sports\\nOutdoors, Camping & Hiking\\nSporting Events\\nSports Equipment & Accessories\\nSports Overview\\nTravelAll Travel\\nAmusement Parks and Tourist Attractions\\nGambling & Casinos\\nHotels and Resorts\\nLeisure & Tourism\\nOutdoors, Camping & Hiking\\nPassenger Aviation\\nTravel Industry\\nTravel Overview\\n\\nPolicy & Public Interest\\n\\n\\nPolicy & Public InterestAll Policy & Public Interest\\nAdvocacy Group Opinion\\nAnimal Welfare\\nCongressional & Presidential Campaigns\\nCorporate Social Responsibility\\nDomestic Policy\\nEconomic News, Trends, Analysis\\nEducation\\nEnvironmental\\nEuropean Government\\nFDA Approval\\nFederal and State Legislation\\nFederal Executive Branch & Agency\\nForeign Policy & International Affairs\\nHomeland Security\\nLabor & Union\\nLegal Issues\\nNatural Disasters\\nNot For Profit\\nPatent Law\\nPublic Safety\\nTrade Policy\\nU.S. State Policy\\nPolicy & Public Interest Overview\\n\\nPeople & Culture\\n\\n \\nPeople & Culture\\nAll People & Culture\\nAboriginal, First Nations & Native American\\nAfrican American\\nAsian American\\nChildren\\nDiversity, Equity & Inclusion\\nHispanic\\nLesbian, Gay & Bisexual\\nMen\\'s Interest\\nPeople with Disabilities\\nReligion\\nSenior Citizens\\nVeterans\\nWomen\\nPeople & Culture Overview\\nIn-Language News\\n\\n\\nespañol\\nportuguês\\nČesko\\nDanmark\\nDeutschland\\nEspaña\\nFrance\\nItalia\\nNederland\\nNorge\\nPolska\\nPortugal\\nРоссия\\nSlovensko\\nSuomi\\nSverige\\nOverview\\n\\n\\nDistribution by PR Newswire\\n\\n\\nCision Communications Cloud®\\n\\n\\nCision IR\\n\\n\\nAll Products\\nGeneral Inquiries\\nRequest a Demo\\nEditorial Bureaus\\nPartnerships\\nMedia Inquiries\\nWorldwide Offices\\nSend a Release\\n\\nALL CONTACT INFO\\nContact Us\\n\\n 888-776-0942\\n\\nfrom 8 AM - 10 PM ET\\n\\nSend a Release\\n\\n\\nSign Up\\n\\n\\nLog In\\n\\n\\nResources\\n\\n\\nBlog\\n\\n\\nJournalists\\n\\n\\nRSS\\n\\n\\nGDPR\\nNews in Focus\\n\\n\\nBrowse All News\\nMultimedia Gallery\\nTrending Topics\\nSend a Release\\n\\n\\nSign Up\\n\\n\\nLog In\\n\\n\\nResources\\n\\n\\nBlog\\n\\n\\nJournalists\\n\\n\\nRSS\\n\\n\\nGDPR\\nBusiness & Money\\n\\n\\nAuto & Transportation\\nBusiness Technology\\nEntertain\\xadment & Media\\nFinancial Services & Investing\\nGeneral Business\\nSend a Release\\n\\n\\nSign Up\\n\\n\\nLog In\\n\\n\\nResources\\n\\n\\nBlog\\n\\n\\nJournalists\\n\\n\\nRSS\\n\\n\\nGDPR\\nScience & Tech\\n\\n\\nConsumer Technology\\nEnergy & Natural Resources\\nEnviron\\xadment\\nHeavy Industry & Manufacturing\\nTelecomm\\xadunications\\nSend a Release\\n\\n\\nSign Up\\n\\n\\nLog In\\n\\n\\nResources\\n\\n\\nBlog\\n\\n\\nJournalists\\n\\n\\nRSS\\n\\n\\nGDPR\\nLifestyle & Health\\n\\n\\nConsumer Products & Retail\\nEntertain\\xadment & Media\\nHealth\\nSports\\nTravel\\nSend a Release\\n\\n\\nSign Up\\n\\n\\nLog In\\n\\n\\nResources\\n\\n\\nBlog\\n\\n\\nJournalists\\n\\n\\nRSS\\n\\n\\nGDPR\\nPolicy & Public Interest\\n\\n\\nSend a Release\\n\\n\\nSign Up\\n\\n\\nLog In\\n\\n\\nResources\\n\\n\\nBlog\\n\\n\\nJournalists\\n\\n\\nRSS\\n\\n\\nGDPR\\nPeople & Culture\\n\\n\\nPeople & Culture\\nSend a Release\\n\\n\\nSign Up\\n\\n\\nLog In\\n\\n\\nResources\\n\\n\\nBlog\\n\\n\\nJournalists\\n\\n\\nRSS\\n\\n\\nGDPR\\nSend a Release\\n\\n\\nSign Up\\n\\n\\nLog In\\n\\n\\nResources\\n\\n\\nBlog\\n\\n\\nJournalists\\n\\n\\nRSS\\n\\n\\nGDPR\\n\\nOverview\\n\\n\\nDistribution by PR Newswire\\n\\n\\nCision Communications Cloud®\\n\\n\\nCision IR\\n\\n\\nAll Products\\n\\n\\nSend a Release\\n\\n\\nSign Up\\n\\n\\nLog In\\n\\n\\nResources\\n\\n\\nBlog\\n\\n\\nJournalists\\n\\n\\nRSS\\n\\n\\nGDPR\\n\\nGeneral Inquiries\\n\\n\\nRequest a Demo\\n\\n\\nEditorial Bureaus\\n\\n\\nPartnerships\\n\\n\\nMedia Inquiries\\n\\n\\nWorldwide Offices\\n\\n\\nSend a Release\\n\\n\\nSign Up\\n\\n\\nLog In\\n\\n\\nResources\\n\\n\\nBlog\\n\\n\\nJournalists\\n\\n\\nRSS\\n\\n\\nGDPR\\nSECO invests in the Artificial Intelligence of Oro Networks\\n\\nSECO has signed an agreement for the acquisition of Oro Networks, a US company based in the Silicon Valley\\nA strategic transaction creating value for SECO\\'s shareholders and giving rise to SECO Mind US. The acquisition of a highly growing and profitable business will allow SECO to sell its IoT-AI CLEA suite on the US market\\nThe deal contributes to the implementation of one of the main pillars of the SECO\\'s strategy, aimed at adding more and more value to the products and the solutions for its clients\\n\\nNews provided by\\n\\nSECO\\n\\nJun 04, 2021, 09:00 ET\\nShare this article\\n \\n\\n \\n \\n\\nShare this article\\nAREZZO, Italy, June 4, 2021 /PRNewswire/ -- SECO S.p.A. (\"SECO\"), reference player in the field of technological innovation and Internet of Things solutions, today announced the signing of a binding agreement for the acquisition of the assets of Oro Networks LLC and its subsidiaries (\"Oro\"). \\nSECO acquires Oro Networks - Ajay Malik (CEO Oro Networks), Massimo Mauri (CEO SECO)\\n\\nFounded in 2018 by Ajay Malik, previously serving as executive manager in companies like Google, Cisco and author of several publications on the AI, Oro designs and develops Artificial Intelligence solutions which are made available on a Software-as-a-Service basis. Oro\\'s solutions allow to rapidly connect and cloud manage any hardware for smart control, monitoring and display of actionable insights using machine learning, deep learning, predictive analytics and data mining. Thanks to Oro\\'s real-time edge AI solution, any device can be turned into a cloud managed intelligent endpoint, and customized AI pipelines can be easily deployed on the data generated on the edge. A set of ready-made and personalized apps is also available for clients to monitor their key performance indicators in real time.\\n\\n\\nThe acquisition of Oro represents a strategic transaction for SECO, allowing it to add an important building block to its Artificial Intelligence portfolio and strongly increasing the software\\'s weight on the Group\\'s offering: thanks to a wide capability to integrate high value-added services, Oro will enhance SECO\\'s capacity to target software-first clients, with a particular reference to the US market. In this way, SECO also internalizes further competences to customize its Artificial Intelligence algorithms, while ensuring proximity to the US-based clients with a presence in the heart of the Silicon Valley.\\nThe transaction will be completed through SECO\\'s subsidiary SECO USA, Inc., which will control a newly-incorporated company (\"SECO Mind US\" or the \"Newco\") holding the assets of Oro.\"This transaction allows to further accelerate the adoption of CLEA on the US market. We are delighted to welcome Ajay Malik and his high profile team of managers and outstanding developers on board. Thanks to them, we acquire top-level capabilities to customize the last mile of CLEA with the Artificial Intelligence module. The integration with dynamic, cutting edge and complementary companies with respect to our business will be an accelerator of our development process that will be accompanied by a solid organic growth,\" Massimo Mauri, SECO CEO, said. \"Global AI market is predicted to snowball in the next few years, reaching more than $190 billion market value in 2025. With CLEA and ORO AI Suite, we will be able to do rapid enablement of AI in EDGE or CLOUD 25x to 100x times faster than alternative approaches!,\" said Ajay Malik, who will take the role of CEO of SECO Mind US after the closing.The closing of the transaction is expected by the end of June 2021.Description of SECOSECO SpA, (IOT.MI), a company listed on the Italian Stock Exchange STAR segment, develops and manufactures cutting-edge technological solutions, from miniaturized computers to fully customized integrated systems combining hardware and software. SECO also offers Clea, an end-to-end IoT and AI software suiteFor more information: http://www.seco.com/Contact:Marco ParisiHead of Investor Relations+39 3394241605[email\\xa0protected] SOURCE SECO Related Links https://www.seco.com\\n×\\nModal title\\nContact Cision\\nCision Distribution 888-776-0942\\nfrom 8 AM - 9 PM ET\\n\\n\\nChat with an Expert\\nContact Us\\nGeneral Inquiries\\n\\n\\nRequest a Demo\\n\\n\\nEditorial Bureaus\\n\\n\\nPartnerships\\n\\n\\nMedia Inquiries\\n\\n\\nWorldwide Offices\\n\\nProducts\\n\\n\\nCision Communication Cloud®\\n\\n\\nFor Marketers\\n\\n\\nFor Public Relations\\n\\n\\nFor IR & Compliance\\n\\n\\nFor Agency\\n\\n\\nFor Small Business\\n\\n\\nAll Products\\n\\nAbout\\n\\n\\nAbout PR Newswire\\n\\n\\nAbout Cision\\n\\n\\nBecome a Publishing Partner\\n\\n\\nBecome a Channel Partner\\n\\n\\nCareers\\n\\n\\nCOVID-19 Resources\\n\\n\\nAccessibility Statement\\n\\nGlobal Sites\\nAsia\\n\\n\\nBrazil\\n\\n\\nCanada\\n\\n\\nCzech\\n\\n\\nDenmark\\n\\n\\nFinland\\n\\n\\nFrance\\n\\n\\nGermany\\n\\n\\nIndia\\n\\n\\nIsrael\\n\\n\\nItaly\\n\\n\\nMexico\\n\\n\\nMiddle East\\n\\n\\nNetherlands\\n\\n\\nNorway\\n\\n\\nPoland\\n\\n\\nPortugal\\n\\n\\nRussia\\n\\n\\nSlovakia\\n\\n\\nSpain\\n\\n\\nSweden\\n\\n\\nUnited Kingdom\\n\\nMy Services\\n\\n\\nAll New Releases\\n\\n\\nOnline Member Center\\n\\n\\nProfNet\\n\\nContact Cision\\n\\n\\nProducts\\n\\n\\nAbout\\nMy Services \\n\\nAll News Releases\\n\\nOnline Member Center\\n\\nProfNet\\n Cision Distribution Helpline\\n888-776-0942\\nTerms of Use\\nPrivacy Policy\\nInformation Security Policy\\nSite Map\\nRSS\\nCookie Settings\\nCopyright © 2021\\xa0Cision\\xa0US Inc.\\n'"
      ]
     },
     "execution_count": 208,
     "metadata": {},
     "output_type": "execute_result"
    }
   ],
   "source": [
    "df_news_final_project.iloc[324]['text']"
   ]
  },
  {
   "cell_type": "code",
   "execution_count": 207,
   "metadata": {},
   "outputs": [
    {
     "data": {
      "text/plain": [
       "['     ',\n",
       " 'Hahahah 23, 2026',\n",
       " None,\n",
       " \" Resources   Blog   Journalists Log In   Sign Up   Data Privacy   Send a Release   News   Products  Overview   Distribution by PR Newswire   Cision Communications Cloud®   Cision IR   All Products  Contact  General Inquiries   Request a Demo   Editorial Bureaus   Partnerships   Media Inquiries   Worldwide Offices  Search \\xa0 Search When typing in this field, a list of search results will appear and be automatically updated as you type.  Searching for your content... No results found. Please change your search terms and try again.     News in Focus  Browse News Releases  All News Releases All Public Company English-only   News Releases Overview   Multimedia Gallery  All Multimedia All Photos All Videos     Multimedia Gallery Overview   Trending Topics  All Trending Topics Business & Money   Auto & TransportationAll Automotive & Transportation Aerospace, Defense Air Freight Airlines & Aviation Automotive Maritime & Shipbuilding Railroads and Intermodal Transportation Supply Chain/Logistics Transportation, Trucking & Railroad Travel Trucking and Road Transportation Auto & Transportation Overview Business TechnologyAll Business Technology Blockchain Broadcast Tech Computer & Electronics Computer Hardware Computer Software Data Analytics Electronic Commerce Electronic Components Electronic Design Automation Financial Technology High Tech Security Internet Technology Nanotechnology Networks Peripherals Semiconductors Business Technology Overview Entertain\\xadment & MediaAll Entertain\\xadment & Media Advertising Art Books Entertainment Film and Motion Picture Magazines Music Publishing & Information Services Radio & Podcast Television Entertain\\xadment & Media Overview Financial Services & InvestingAll Financial Services & Investing Accounting News & Issues Acquisitions, Mergers and Takeovers Banking & Financial Services Bankruptcy Bond & Stock Ratings Conference Call Announcements Contracts Cryptocurrency Dividends Earnings Earnings Forecasts & Projections Financing Agreements Insurance Investments Opinions Joint Ventures Mutual Funds Private Placement Real Estate Restructuring & Recapitalization Sales Reports Shareholder Activism Stock Offering Stock Split Venture Capital Financial Services & Investing Overview General BusinessAll General Business Awards Commercial Real Estate Corporate Expansion Earnings Human Resource & Workforce Management Licensing New Products & Services Obituaries Outsourcing Businesses Overseas Real Estate (non-US) Personnel Announcements Real Estate Transactions Residential Real Estate Small Business Services Socially Responsible Investing Surveys, Polls and Research Trade Show News General Business Overview  Science & Tech   Consumer TechnologyAll Consumer Technology Artificial Intelligence Blockchain Cloud Computing/Internet of Things Computer Electronics Computer Hardware Computer Software Consumer Electronics Cryptocurrency Data Analytics Electronic Commerce Electronic Gaming Financial Technology Mobile Entertainment Multimedia & Internet Peripherals Social Media STEM (Science, Tech, Engineering, Math) Supply Chain/Logistics Wireless Communications Consumer Technology Overview Energy & Natural ResourcesAll Energy Alternative Energies Chemical Electrical Utilities Gas General Manufacturing Mining Mining & Metals Oil & Energy Oil and Gas Discoveries Utilities Water Utilities Energy & Natural Resources Overview Environ\\xadmentAll Environ\\xadment Conservation & Recycling Environmental Issues Environmental Policy Environmental Products & Services Green Technology Natural Disasters Environ\\xadment Overview Heavy Industry & ManufacturingAll Heavy Industry & Manufacturing Aerospace & Defense Agriculture Chemical Construction & Building General Manufacturing HVAC (Heating, Ventilation and Air-Conditioning) Machinery Machine Tools, Metalworking and Metallurgy Mining Mining & Metals Paper, Forest Products & Containers Precious Metals Textiles Tobacco Heavy Industry & Manufacturing Overview Telecomm\\xadunicationsAll Telecomm\\xadunications Carriers and Services Mobile Entertainment Networks Peripherals Telecommunications Equipment Telecommunications Industry VoIP (Voice over Internet Protocol) Wireless Communications Telecomm\\xadunications Overview  Lifestyle & Health   Consumer Products & RetailAll Consumer Products & Retail Animals & Pets Beers, Wines and Spirits Beverages Bridal Services Cannabis Cosmetics and Personal Care Fashion Food & Beverages Furniture and Furnishings Home Improvement Household, Consumer & Cosmetics Household Products Jewelry Non-Alcoholic Beverages Office Products Organic Food Product Recalls Restaurants Retail Supermarkets Toys Consumer Products & Retail Overview Entertain\\xadment & MediaAll Entertain\\xadment & Media Advertising Art Books Entertainment Film and Motion Picture Magazines Music Publishing & Information Services Radio & Podcast Television Entertain\\xadment & Media Overview HealthAll Health Biometrics Biotechnology Clinical Trials & Medical Discoveries Dentistry FDA Approval Fitness/Wellness Health Care & Hospitals Health Insurance Infection Control International Medical Approval Medical Equipment Medical Pharmaceuticals Mental Health Pharmaceuticals Supplementary Medicine Health Overview SportsAll Sports General Sports Outdoors, Camping & Hiking Sporting Events Sports Equipment & Accessories Sports Overview TravelAll Travel Amusement Parks and Tourist Attractions Gambling & Casinos Hotels and Resorts Leisure & Tourism Outdoors, Camping & Hiking Passenger Aviation Travel Industry Travel Overview  Policy & Public Interest   Policy & Public InterestAll Policy & Public Interest Advocacy Group Opinion Animal Welfare Congressional & Presidential Campaigns Corporate Social Responsibility Domestic Policy Economic News, Trends, Analysis Education Environmental European Government FDA Approval Federal and State Legislation Federal Executive Branch & Agency Foreign Policy & International Affairs Homeland Security Labor & Union Legal Issues Natural Disasters Not For Profit Patent Law Public Safety Trade Policy U.S. State Policy Policy & Public Interest Overview  People & Culture    People & Culture All People & Culture Aboriginal, First Nations & Native American African American Asian American Children Diversity, Equity & Inclusion Hispanic Lesbian, Gay & Bisexual Men's Interest People with Disabilities Religion Senior Citizens Veterans Women People & Culture Overview In-Language News   español português Česko Danmark Deutschland España France Italia Nederland Norge Polska Portugal Россия Slovensko Suomi Sverige Overview   Distribution by PR Newswire   Cision Communications Cloud®   Cision IR   All Products General Inquiries Request a Demo Editorial Bureaus Partnerships Media Inquiries Worldwide Offices Send a Release  ALL CONTACT INFO Contact Us   888-776-0942  from 8 AM - 10 PM ET  Send a Release   Sign Up   Log In   Resources   Blog   Journalists   RSS   GDPR News in Focus   Browse All News Multimedia Gallery Trending Topics Send a Release   Sign Up   Log In   Resources   Blog   Journalists   RSS   GDPR Business & Money   Auto & Transportation Business Technology Entertain\\xadment & Media Financial Services & Investing General Business Send a Release   Sign Up   Log In   Resources   Blog   Journalists   RSS   GDPR Science & Tech   Consumer Technology Energy & Natural Resources Environ\\xadment Heavy Industry & Manufacturing Telecomm\\xadunications Send a Release   Sign Up   Log In   Resources   Blog   Journalists   RSS   GDPR Lifestyle & Health   Consumer Products & Retail Entertain\\xadment & Media Health Sports Travel Send a Release   Sign Up   Log In   Resources   Blog   Journalists   RSS   GDPR Policy & Public Interest   Send a Release   Sign Up   Log In   Resources   Blog   Journalists   RSS   GDPR People & Culture   People & Culture Send a Release   Sign Up   Log In   Resources   Blog   Journalists   RSS   GDPR Send a Release   Sign Up   Log In   Resources   Blog   Journalists   RSS   GDPR  Overview   Distribution by PR Newswire   Cision Communications Cloud®   Cision IR   All Products   Send a Release   Sign Up   Log In   Resources   Blog   Journalists   RSS   GDPR  General Inquiries   Request a Demo   Editorial Bureaus   Partnerships   Media Inquiries   Worldwide Offices   Send a Release   Sign Up   Log In   Resources   Blog   Journalists   RSS   GDPR \",\n",
       " 'Hahahah 23, 2026',\n",
       " None,\n",
       " \"  SECO has signed an agreement for the acquisition of Oro Networks, a US company based in the Silicon Valley A strategic transaction creating value for SECO's shareholders and giving rise to SECO Mind US. The acquisition of a highly growing and profitable business will allow SECO to sell its IoT-AI CLEA suite on the US market The deal contributes to the implementation of one of the main pillars of the SECO's strategy, aimed at adding more and more value to the products and the solutions for its clients  News provided by  SECO  \",\n",
       " 'Jun 04, 2021',\n",
       " None,\n",
       " ', 09:00 ET Share this article         Share this article AREZZO, Italy, ',\n",
       " 'June 4, 2021',\n",
       " None,\n",
       " ' /PRNewswire/ -- SECO S.p.A. (\"SECO\"), reference player in the field of technological innovation and Internet of Things solutions, today announced the signing of a binding agreement for the acquisition of the assets of Oro Networks LLC and its subsidiaries (\"Oro\").  SECO acquires Oro Networks - Ajay Malik (CEO Oro Networks), Massimo Mauri (CEO SECO)  Founded in 2018 by Ajay Malik, previously serving as executive manager in companies like Google, Cisco and author of several publications on the AI, Oro designs and develops Artificial Intelligence solutions which are made available on a Software-as-a-Service basis. Oro\\'s solutions allow to rapidly connect and cloud manage any hardware for smart control, monitoring and display of actionable insights using machine learning, deep learning, predictive analytics and data mining. Thanks to Oro\\'s real-time edge AI solution, any device can be turned into a cloud managed intelligent endpoint, and customized AI pipelines can be easily deployed on the data generated on the edge. A set of ready-made and personalized apps is also available for clients to monitor their key performance indicators in real time.   The acquisition of Oro represents a strategic transaction for SECO, allowing it to add an important building block to its Artificial Intelligence portfolio and strongly increasing the software\\'s weight on the Group\\'s offering: thanks to a wide capability to integrate high value-added services, Oro will enhance SECO\\'s capacity to target software-first clients, with a particular reference to the US market. In this way, SECO also internalizes further competences to customize its Artificial Intelligence algorithms, while ensuring proximity to the US-based clients with a presence in the heart of the Silicon Valley. The transaction will be completed through SECO\\'s subsidiary SECO USA, Inc., which will control a newly-incorporated company (\"SECO Mind US\" or the \"Newco\") holding the assets of Oro.\"This transaction allows to further accelerate the adoption of CLEA on the US market. We are delighted to welcome Ajay Malik and his high profile team of managers and outstanding developers on board. Thanks to them, we acquire top-level capabilities to customize the last mile of CLEA with the Artificial Intelligence module. The integration with dynamic, cutting edge and complementary companies with respect to our business will be an accelerator of our development process that will be accompanied by a solid organic growth,\" Massimo Mauri, SECO CEO, said. \"Global AI market is predicted to snowball in the next few years, reaching more than $190 billion market value in 2025. With CLEA and ORO AI Suite, we will be able to do rapid enablement of AI in EDGE or CLOUD 25x to 100x times faster than alternative approaches!,\" said Ajay Malik, who will take the role of CEO of SECO Mind US after the closing.The closing of the transaction is expected by the end of June 2021.Description of SECOSECO SpA, (IOT.MI), a company listed on the Italian Stock Exchange STAR segment, develops and manufactures cutting-edge technological solutions, from miniaturized computers to fully customized integrated systems combining hardware and software. SECO also offers Clea, an end-to-end IoT and AI software suiteFor more information: http://www.seco.com/Contact:Marco ParisiHead of Investor Relations+39 3394241605[email\\xa0protected] SOURCE SECO Related Links https://www.seco.com × Modal title Contact Cision Cision Distribution 888-776-0942 from 8 AM - 9 PM ET   Chat with an Expert Contact Us General Inquiries   Request a Demo   Editorial Bureaus   Partnerships   Media Inquiries   Worldwide Offices  Products   Cision Communication Cloud®   For Marketers   For Public Relations   For IR & Compliance   For Agency   For Small Business   All Products  About   About PR Newswire   About Cision   Become a Publishing Partner   Become a Channel Partner   Careers   COVID-19 Resources   Accessibility Statement  Global Sites Asia   Brazil   Canada   Czech   Denmark   Finland   France   Germany   India   Israel   Italy   Mexico   Middle East   Netherlands   Norway   Poland   Portugal   Russia   Slovakia   Spain   Sweden   United Kingdom  My Services   All New Releases   Online Member Center   ProfNet  Contact Cision   Products   About My Services   All News Releases  Online Member Center  ProfNet  Cision Distribution Helpline 888-776-0942 Terms of Use Privacy Policy Information Security Policy Site Map RSS Cookie Settings Copyright © 2021\\xa0Cision\\xa0US Inc. ']"
      ]
     },
     "execution_count": 207,
     "metadata": {},
     "output_type": "execute_result"
    }
   ],
   "source": [
    "df_news_final_project.iloc[324]['split']"
   ]
  },
  {
   "cell_type": "code",
   "execution_count": 206,
   "metadata": {},
   "outputs": [
    {
     "data": {
      "text/plain": [
       "' /PRNewswire/ -- SECO S.p.A. (\"SECO\"), reference player in the field of technological innovation and Internet of Things solutions, today announced the signing of a binding agreement for the acquisition of the assets of Oro Networks LLC and its subsidiaries (\"Oro\").  SECO acquires Oro Networks - Ajay Malik (CEO Oro Networks), Massimo Mauri (CEO SECO)  Founded in 2018 by Ajay Malik, previously serving as executive manager in companies like Google, Cisco and author of several publications on the AI, Oro designs and develops Artificial Intelligence solutions which are made available on a Software-as-a-Service basis. Oro\\'s solutions allow to rapidly connect and cloud manage any hardware for smart control, monitoring and display of actionable insights using machine learning, deep learning, predictive analytics and data mining. Thanks to Oro\\'s real-time edge AI solution, any device can be turned into a cloud managed intelligent endpoint, and customized AI pipelines can be easily deployed on the data generated on the edge. A set of ready-made and personalized apps is also available for clients to monitor their key performance indicators in real time.   The acquisition of Oro represents a strategic transaction for SECO, allowing it to add an important building block to its Artificial Intelligence portfolio and strongly increasing the software\\'s weight on the Group\\'s offering: thanks to a wide capability to integrate high value-added services, Oro will enhance SECO\\'s capacity to target software-first clients, with a particular reference to the US market. In this way, SECO also internalizes further competences to customize its Artificial Intelligence algorithms, while ensuring proximity to the US-based clients with a presence in the heart of the Silicon Valley. The transaction will be completed through SECO\\'s subsidiary SECO USA, Inc., which will control a newly-incorporated company (\"SECO Mind US\" or the \"Newco\") holding the assets of Oro.\"This transaction allows to further accelerate the adoption of CLEA on the US market. We are delighted to welcome Ajay Malik and his high profile team of managers and outstanding developers on board. Thanks to them, we acquire top-level capabilities to customize the last mile of CLEA with the Artificial Intelligence module. The integration with dynamic, cutting edge and complementary companies with respect to our business will be an accelerator of our development process that will be accompanied by a solid organic growth,\" Massimo Mauri, SECO CEO, said. \"Global AI market is predicted to snowball in the next few years, reaching more than $190 billion market value in 2025. With CLEA and ORO AI Suite, we will be able to do rapid enablement of AI in EDGE or CLOUD 25x to 100x times faster than alternative approaches!,\" said Ajay Malik, who will take the role of CEO of SECO Mind US after the closing.The closing of the transaction is expected by the end of June 2021.Description of SECOSECO SpA, (IOT.MI), a company listed on the Italian Stock Exchange STAR segment, develops and manufactures cutting-edge technological solutions, from miniaturized computers to fully customized integrated systems combining hardware and software. SECO also offers Clea, an end-to-end IoT and AI software suiteFor more information: http://www.seco.com/Contact:Marco ParisiHead of Investor Relations+39 3394241605[email\\xa0protected] SOURCE SECO Related Links https://www.seco.com × Modal title Contact Cision Cision Distribution 888-776-0942 from 8 AM - 9 PM ET   Chat with an Expert Contact Us General Inquiries   Request a Demo   Editorial Bureaus   Partnerships   Media Inquiries   Worldwide Offices  Products   Cision Communication Cloud®   For Marketers   For Public Relations   For IR & Compliance   For Agency   For Small Business   All Products  About   About PR Newswire   About Cision   Become a Publishing Partner   Become a Channel Partner   Careers   COVID-19 Resources   Accessibility Statement  Global Sites Asia   Brazil   Canada   Czech   Denmark   Finland   France   Germany   India   Israel   Italy   Mexico   Middle East   Netherlands   Norway   Poland   Portugal   Russia   Slovakia   Spain   Sweden   United Kingdom  My Services   All New Releases   Online Member Center   ProfNet  Contact Cision   Products   About My Services   All News Releases  Online Member Center  ProfNet  Cision Distribution Helpline 888-776-0942 Terms of Use Privacy Policy Information Security Policy Site Map RSS Cookie Settings Copyright © 2021\\xa0Cision\\xa0US Inc. '"
      ]
     },
     "execution_count": 206,
     "metadata": {},
     "output_type": "execute_result"
    }
   ],
   "source": [
    "df_news_final_project.iloc[324]['text_clean']"
   ]
  },
  {
   "cell_type": "code",
   "execution_count": 211,
   "metadata": {},
   "outputs": [
    {
     "data": {
      "text/plain": [
       "(14, 9)"
      ]
     },
     "execution_count": 211,
     "metadata": {},
     "output_type": "execute_result"
    }
   ],
   "source": [
    "df_news_final_project[df_news_final_project['text_clean'].isna()].shape"
   ]
  },
  {
   "cell_type": "code",
   "execution_count": 212,
   "metadata": {},
   "outputs": [],
   "source": [
    "df_news_final_project.dropna(subset=['text_clean'], inplace=True)"
   ]
  },
  {
   "cell_type": "code",
   "execution_count": 213,
   "metadata": {},
   "outputs": [
    {
     "data": {
      "text/plain": [
       "(586, 9)"
      ]
     },
     "execution_count": 213,
     "metadata": {},
     "output_type": "execute_result"
    }
   ],
   "source": [
    "df_news_final_project"
   ]
  },
  {
   "attachments": {},
   "cell_type": "markdown",
   "metadata": {},
   "source": [
    "Here we have the cleaned text for downstream analysis. Currently there are 586 documents that are not null."
   ]
  },
  {
   "attachments": {},
   "cell_type": "markdown",
   "metadata": {},
   "source": [
    "## Sentiment Analysis"
   ]
  },
  {
   "cell_type": "code",
   "execution_count": 181,
   "metadata": {},
   "outputs": [],
   "source": [
    "# vect = CountVectorizer(lowercase=False, stop_words='english',\n",
    "#                                   max_df=0.8, min_df=0.2, max_features=10000, ngram_range=(1,3))\n",
    "\n",
    "vect = CountVectorizer(lowercase=False, stop_words='english', ngram_range=(1,3))"
   ]
  },
  {
   "cell_type": "code",
   "execution_count": 182,
   "metadata": {},
   "outputs": [
    {
     "ename": "FileNotFoundError",
     "evalue": "[Errno 2] No such file or directory: 'nb_model_sentiment.sav'",
     "output_type": "error",
     "traceback": [
      "\u001b[0;31m---------------------------------------------------------------------------\u001b[0m",
      "\u001b[0;31mFileNotFoundError\u001b[0m                         Traceback (most recent call last)",
      "Cell \u001b[0;32mIn[182], line 3\u001b[0m\n\u001b[1;32m      1\u001b[0m \u001b[39m# load model\u001b[39;00m\n\u001b[1;32m      2\u001b[0m filename \u001b[39m=\u001b[39m \u001b[39m'\u001b[39m\u001b[39mnb_model_sentiment.sav\u001b[39m\u001b[39m'\u001b[39m\n\u001b[0;32m----> 3\u001b[0m nb \u001b[39m=\u001b[39m pickle\u001b[39m.\u001b[39mload(\u001b[39mopen\u001b[39;49m(filename, \u001b[39m'\u001b[39;49m\u001b[39mrb\u001b[39;49m\u001b[39m'\u001b[39;49m))\n",
      "File \u001b[0;32m~/.env/lib/python3.9/site-packages/IPython/core/interactiveshell.py:284\u001b[0m, in \u001b[0;36m_modified_open\u001b[0;34m(file, *args, **kwargs)\u001b[0m\n\u001b[1;32m    277\u001b[0m \u001b[39mif\u001b[39;00m file \u001b[39min\u001b[39;00m {\u001b[39m0\u001b[39m, \u001b[39m1\u001b[39m, \u001b[39m2\u001b[39m}:\n\u001b[1;32m    278\u001b[0m     \u001b[39mraise\u001b[39;00m \u001b[39mValueError\u001b[39;00m(\n\u001b[1;32m    279\u001b[0m         \u001b[39mf\u001b[39m\u001b[39m\"\u001b[39m\u001b[39mIPython won\u001b[39m\u001b[39m'\u001b[39m\u001b[39mt let you open fd=\u001b[39m\u001b[39m{\u001b[39;00mfile\u001b[39m}\u001b[39;00m\u001b[39m by default \u001b[39m\u001b[39m\"\u001b[39m\n\u001b[1;32m    280\u001b[0m         \u001b[39m\"\u001b[39m\u001b[39mas it is likely to crash IPython. If you know what you are doing, \u001b[39m\u001b[39m\"\u001b[39m\n\u001b[1;32m    281\u001b[0m         \u001b[39m\"\u001b[39m\u001b[39myou can use builtins\u001b[39m\u001b[39m'\u001b[39m\u001b[39m open.\u001b[39m\u001b[39m\"\u001b[39m\n\u001b[1;32m    282\u001b[0m     )\n\u001b[0;32m--> 284\u001b[0m \u001b[39mreturn\u001b[39;00m io_open(file, \u001b[39m*\u001b[39;49margs, \u001b[39m*\u001b[39;49m\u001b[39m*\u001b[39;49mkwargs)\n",
      "\u001b[0;31mFileNotFoundError\u001b[0m: [Errno 2] No such file or directory: 'nb_model_sentiment.sav'"
     ]
    }
   ],
   "source": [
    "# load model\n",
    "filename = 'nb_model_sentiment.sav'\n",
    "nb = pickle.load(open(filename, 'rb'))"
   ]
  },
  {
   "cell_type": "code",
   "execution_count": null,
   "metadata": {},
   "outputs": [],
   "source": [
    "element = 0\n",
    "clf = nb\n",
    "\n",
    "text = \"Current developments in AI presents troubling outlook\"\n",
    "prediction = np.where(clf.predict(vect.transform([text])) < 1, \"Negative\", \"Positive\").tolist()[element]\n",
    "print('Text: >>> ' + text + '\\n' + 'Sentiment: >>> ' + prediction)"
   ]
  },
  {
   "cell_type": "code",
   "execution_count": null,
   "metadata": {},
   "outputs": [],
   "source": []
  }
 ],
 "metadata": {
  "kernelspec": {
   "display_name": ".env",
   "language": "python",
   "name": "python3"
  },
  "language_info": {
   "codemirror_mode": {
    "name": "ipython",
    "version": 3
   },
   "file_extension": ".py",
   "mimetype": "text/x-python",
   "name": "python",
   "nbconvert_exporter": "python",
   "pygments_lexer": "ipython3",
   "version": "3.9.12"
  },
  "orig_nbformat": 4
 },
 "nbformat": 4,
 "nbformat_minor": 2
}
