{
 "cells": [
  {
   "cell_type": "code",
   "execution_count": 2,
   "id": "014cc005-9cea-4c98-8868-bda0033db7e5",
   "metadata": {},
   "outputs": [
    {
     "name": "stdout",
     "output_type": "stream",
     "text": [
      "Using 7 workers\n"
     ]
    }
   ],
   "source": [
    "# basic data analytics\n",
    "import pandas as pd\n",
    "import numpy as np\n",
    "import sklearn\n",
    "import pickle\n",
    "\n",
    "# nlp modules\n",
    "import nltk\n",
    "import spacy\n",
    "import re\n",
    "from nltk.corpus import stopwords\n",
    "from nltk.stem.wordnet import WordNetLemmatizer\n",
    "\n",
    "import multiprocessing\n",
    "import string\n",
    "\n",
    "from sklearn.feature_extraction.text import CountVectorizer, HashingVectorizer, TfidfTransformer, TfidfVectorizer\n",
    "\n",
    "\n",
    "import gensim\n",
    "from gensim import corpora, models\n",
    "from gensim.models.ldamulticore import LdaMulticore\n",
    "from gensim.utils import simple_preprocess\n",
    "from gensim.models import CoherenceModel\n",
    "\n",
    "import pyLDAvis\n",
    "import pyLDAvis.gensim_models as gensimvis\n",
    "pyLDAvis.enable_notebook()\n",
    "import warnings\n",
    "\n",
    "# warnings.simplefilter('once')\n",
    "warnings.simplefilter('ignore')\n",
    "\n",
    "num_processors = multiprocessing.cpu_count()\n",
    "num_processors\n",
    "\n",
    "workers = num_processors-1\n",
    "\n",
    "print(f'Using {workers} workers')"
   ]
  },
  {
   "cell_type": "code",
   "execution_count": 3,
   "id": "cc945932-5f9c-4f4c-bb03-b148d73e0397",
   "metadata": {},
   "outputs": [],
   "source": [
    "df = pd.read_csv('/home/jupyter/df_news.csv', lineterminator='\\n')"
   ]
  },
  {
   "cell_type": "code",
   "execution_count": 4,
   "id": "5ba4438c-d6d6-4290-82a6-9b6d95305bf9",
   "metadata": {},
   "outputs": [],
   "source": [
    "df = df.drop('Unnamed: 0', axis = 1)"
   ]
  },
  {
   "cell_type": "code",
   "execution_count": 5,
   "id": "79ad8420-aa98-420c-80b3-d8ff5d1c01ba",
   "metadata": {},
   "outputs": [],
   "source": [
    "df = df.drop(['text_notitle', 'split', 'split_len'], axis=1)"
   ]
  },
  {
   "cell_type": "code",
   "execution_count": 6,
   "id": "3b45ac02-9094-4551-95db-3a84901334b7",
   "metadata": {},
   "outputs": [
    {
     "data": {
      "text/html": [
       "<div>\n",
       "<style scoped>\n",
       "    .dataframe tbody tr th:only-of-type {\n",
       "        vertical-align: middle;\n",
       "    }\n",
       "\n",
       "    .dataframe tbody tr th {\n",
       "        vertical-align: top;\n",
       "    }\n",
       "\n",
       "    .dataframe thead th {\n",
       "        text-align: right;\n",
       "    }\n",
       "</style>\n",
       "<table border=\"1\" class=\"dataframe\">\n",
       "  <thead>\n",
       "    <tr style=\"text-align: right;\">\n",
       "      <th></th>\n",
       "      <th>url</th>\n",
       "      <th>date</th>\n",
       "      <th>language</th>\n",
       "      <th>title</th>\n",
       "      <th>text</th>\n",
       "      <th>text_clean</th>\n",
       "    </tr>\n",
       "  </thead>\n",
       "  <tbody>\n",
       "    <tr>\n",
       "      <th>0</th>\n",
       "      <td>http://en.people.cn/n3/2021/0318/c90000-983012...</td>\n",
       "      <td>2021-03-18</td>\n",
       "      <td>en</td>\n",
       "      <td>Artificial intelligence improves parking effic...</td>\n",
       "      <td>\\n\\nArtificial intelligence improves parking e...</td>\n",
       "      <td>thanks to the application of an artificial int...</td>\n",
       "    </tr>\n",
       "    <tr>\n",
       "      <th>1</th>\n",
       "      <td>http://newsparliament.com/2020/02/27/children-...</td>\n",
       "      <td>2020-02-27</td>\n",
       "      <td>en</td>\n",
       "      <td>Children With Autism Saw Their Learning and So...</td>\n",
       "      <td>\\nChildren With Autism Saw Their Learning and ...</td>\n",
       "      <td>scientists who designed an artificially clever...</td>\n",
       "    </tr>\n",
       "    <tr>\n",
       "      <th>2</th>\n",
       "      <td>http://www.dataweek.co.za/12835r</td>\n",
       "      <td>2021-03-26</td>\n",
       "      <td>en</td>\n",
       "      <td>Forget ML, AI and Industry 4.0 – obsolescence ...</td>\n",
       "      <td>\\n\\nForget ML, AI and Industry 4.0 – obsolesce...</td>\n",
       "      <td>the world entered a new era of accelerated tra...</td>\n",
       "    </tr>\n",
       "  </tbody>\n",
       "</table>\n",
       "</div>"
      ],
      "text/plain": [
       "                                                 url        date language  \\\n",
       "0  http://en.people.cn/n3/2021/0318/c90000-983012...  2021-03-18       en   \n",
       "1  http://newsparliament.com/2020/02/27/children-...  2020-02-27       en   \n",
       "2                   http://www.dataweek.co.za/12835r  2021-03-26       en   \n",
       "\n",
       "                                               title  \\\n",
       "0  Artificial intelligence improves parking effic...   \n",
       "1  Children With Autism Saw Their Learning and So...   \n",
       "2  Forget ML, AI and Industry 4.0 – obsolescence ...   \n",
       "\n",
       "                                                text  \\\n",
       "0  \\n\\nArtificial intelligence improves parking e...   \n",
       "1  \\nChildren With Autism Saw Their Learning and ...   \n",
       "2  \\n\\nForget ML, AI and Industry 4.0 – obsolesce...   \n",
       "\n",
       "                                          text_clean  \n",
       "0  thanks to the application of an artificial int...  \n",
       "1  scientists who designed an artificially clever...  \n",
       "2  the world entered a new era of accelerated tra...  "
      ]
     },
     "execution_count": 6,
     "metadata": {},
     "output_type": "execute_result"
    }
   ],
   "source": [
    "df.head(3)"
   ]
  },
  {
   "cell_type": "code",
   "execution_count": 19,
   "id": "066e3c3a-9eb9-4086-9d18-030202cfa64c",
   "metadata": {},
   "outputs": [
    {
     "data": {
      "text/plain": [
       "['in this report , the artificial intelligence software market is valued at usd xx million in 2017 and is expected to reach usd xx million by the end of 2025 , growing at a cagr of xx % between 20 . artificial intelligence software market has been broken down by major regions , with complete market estimates on the basis of products/applications on a regional basis . browse full research report at https : //www.crystalmarketreport.com/2018-2025-artificial-intelligence-software-report-on-global-and-united-states-market-status-and-forecast-by-players-types-and-applications this report studies the global artificial intelligence software market , analyzes and researches the artificial intelligence software development status and forecast in united states , eu , japan , china , india and southeast asia . this report focuses on the top players in global market , like cortana ( microsoft ) google assistant siri braina h2o alphago opennn a.l.i.c.e ( artificial linguistic internet computer entity ) viv prisma browse full research report at https : //www.crystalmarketreport.com/2018-2025-artificial-intelligence-software-report-on-global-and-united-states-market-status-and-forecast-by-players-types-and-applications other sourcesglobal lead acid market ( 2020-2026 ) | latest covid19 impact analysis | know about brand players : johnson controls inc , fiamm , enersys , exide technologies , east penn manufacturingmedical equipment market 2021 will reflect significant growth in future with size , share , growth , and key companies analysis- medtronic , johnson & johnson , ge healthcare , siemens healthcare , philips healthcare , etc.fast attack craft ( fac ) market projected to gain significant value by 2021 | major giants – bae systems. , cmn , csoc , damen shipyards group , fincantieri s.p.a. , grseover-the-top market global analysis 2021-2028 : netflix , google , inc. , limelight networks , yahoo , and many more.solid oxide fuel cell market latest strategy , industry growth and key players outlooksoil treatment chemicals market share , size , regional trend , future growth , leading players and industry demand 2027global scent synthesizer and e-nose product market ( 2020 ) to witness huge growth by 2026 | alpha mos ( france ) , enose company ( netherlands ) , owlstone medical ( uk ) , airsense analytics ( germany ) , electronics sensor ( usa ) , odotech ( canada ) , and moresuperluminescent diodes ( slds ) market 2027 | future growth and opportunities with dazzling key thorlabs , anritsu , qphotonicssierra nevada corporation will spin off its space sector to a separate firmtelesat plans to raise $ 500 million to boost the lightspeed broadband constellation projectwhy are the solar projects increasing in cost ? tests of york space systems ’ autonomous operations upgrade are over and above all , successfulcustomers are enraged by tesla ’ s solar roof price hikeshawkeye 360 raises $ 55 million to support building more satellitesastrobotic to use spacex ’ s falcon heavy launcher for griffin lunar landerin irvine , california , iceye sets up its u.s. headquarters and production plantresilience , crew dragon from spacex , recently shifted to another docking portspacex adds to the new round of fundinginsight mars lander is in “ turmoil ” and has gone into the emergency hibernation modekorea aerospace industries to inject $ 880 million to space business in the next five years',\n",
       " 'artificial intelligence ( ai ) has been the most progressive technology since its introduction in the 1950s . it is associated with human intelligence with characteristics such as language understanding , reasoning , learning , problem-solving , and others . manufacturers in the market witness enormous underlying intellectual challenges in the development and revision of such technology . it is positioned as the core of the next-generation software technologies in the market . the factors that drive the growth of the global artificial intelligence chip market include increase in demand for smart homes , development of smart cities , and emergence of quantum computing . however , lack of skilled workforce restrains the market growth . further , in the near future , increased adoption of ai chips in the developing regions and development of smarter robots are expected to provide lucrative opportunities for the key players operating in the global artificial intelligence chip market . the global artificial intelligence chip market is segmented based on chip type , application , industry vertical , technology , and geography . by chip type , the market is categorized into gpu , asic , fpga , cpu , and others . based on application , it is divided into machine learning , natural language processing ( nlp ) , robotic process automation , speech recognition , and others . on the basis of technology , the market is segmented into system-on-chip , system-in-package , multi-chip module , and others . based on processing type , it is bifurcated into edge and cloud . the industry verticals considered in the study include media & advertising , bfsi , it & telecom , retail , healthcare , automotive & transportation , and others . this study comprises analytical depiction of the global artificial intelligence chip market along with the current trends and future estimations to depict the imminent investment pockets . we are the best market research reports provider in the industry . report ocean believe in providing the quality reports to clients to meet the top line and bottom-line goals which will boost your market share in today ’ s competitive environment . report ocean is ‘ one-stop solution ’ for individuals , organizations , and industries that are looking for innovative market research reports . we will help you in finding the upcoming trends that will entitle you as a leader in the industry . we are here to work with you on your objective which will create an immense opportunity for your organization .',\n",
       " 'orbis research has recently announced “ global artificial intelligence ( ai ) in cyber security market ” report with all the critical analysis on current state of industry , demand for product , environment for investment and existing competition . global artificial intelligence ( ai ) in cyber security market report is a focused study on various market affecting factors and comprehensive survey of industry covering major aspects like product types , various applications , top regions , growth analysis , market potential , challenges for investor , opportunity assessments , major drivers and key players ( bae systemscisco systemsfortinetfireeyecheck point software technologiesibm corporationrsa securitysymantec corporationjuniper networkpalo alto networks ) artificial intelligence ( ai ) is a result of a software that tries to create a decision mechanism similar to human brain ’ s decision mechanism . artificial intelligence is playing a crucial role in cyber security by identifying threats and protecting organizations ’ data from lethal cyber-attacks . it speeds up the process of noticing attacks and enables organizations to adopt predictive measures in combating cyber-crimes . this report studies the artificial intelligence ( ai ) in cyber security market status and outlook of global and major regions , from angles of players , countries , product types and end industries ; this report analyzes the top players in global market , and splits the artificial intelligence ( ai ) in cyber security market by product type and applications/end industries . the global artificial intelligence ( ai ) in cyber security market is valued at xx million usd in 2018 and is expected to reach xx million usd by the end of 2024 , growing at a cagr of xx % between 20 north america , especially the united states , will still play an important role which can not be ignored . any changes from united states might affect the development trend of artificial intelligence ( ai ) in cyber security . orbis research ( orbisresearch.com ) is a single point aid for all your market research requirements . we have vast database of reports from the leading publishers and authors across the globe . we specialize in delivering customized reports as per the requirements of our clients . we have complete information about our publishers and hence are sure about the accuracy of the industries and verticals of their specialization . this helps our clients to map their needs and we produce the perfect required market research study for our clients .',\n",
       " 'the industry analysis on global nasogastric tubes market 2020 includes the complete features of the nasogastric tubes market . this covers comprehensive analysis , recent industry statistics and upcoming flow of the nasogastric tubes market . the report also illustrates the size of the nasogastric tubes market , factors measuring nasogastric tubes market growth , various challenges which affect market expansion and economic prominence of the nasogastric tubes market globally . global nasogastric tubes market report begins with an overview of the nasogastric tubes market . the report describes the nasogastric tubes market data transparently and accurately . this study covers all the necessary information regarding the global nasogastric tubes market which helps a user to understand the market completely . the first section of the report begins with introduction and followed by product scope , market overview , market opportunities , market risk , market driving force . the next section covers the top players of nasogastric tubes , with sales , revenue , and price of nasogastric tubes . after that , the competitive analysis among the top manufacturers , with sales , revenue and market share is described . after that , the regional analysis of the nasogastric tubes market is explained which helps in understanding the effective regions of the market . the region-wise segmentation also focused on the regions having more nasogastric tubes market opportunities with sales , revenue and market share of nasogastric tubes , for each region . this study serves the nasogastric tubes market segmentation consists of key manufacturers segment , types segment , and applications segment . the data concerning these segments that are blooming in the nasogastric tubes market is included . the nasogastric tubes market type and application are discussed deeply with sales market share and growth rate . nasogastric tubes market forecast , by regions , type and application , with sales and revenue are integrated with this report . lastly , comprehensive analysis of industry risks , challenges and growth opportunities , administrative trends , nasogastric tubes market drivers are included in this study . further in-depth study of nasogastric tubes sales channel , distributors , traders , dealers , appendix and data source is provided . so that overall report helps the new aspirants to inspect the forthcoming opportunities in the nasogastric tubes market .']"
      ]
     },
     "execution_count": 19,
     "metadata": {},
     "output_type": "execute_result"
    }
   ],
   "source": [
    "doc_complete = df.head(200)['text_clean'].values.tolist()\n",
    "\n",
    "# def clean(doc):\n",
    "#     all_str = [str(i) for i in doc_complete]\n",
    "#     length_long =  [i for i in doc_complete if len(i) > 100]\n",
    "#     stop_free = \" \".join([i for i in doc.lower().split() if i not in stop])\n",
    "#     punc_free = ''.join(ch for ch in stop_free if ch not in exclude)\n",
    "#     normalized = \" \".join(lemma.lemmatize(word) for word in punc_free.split())\n",
    "#     return normalized\n",
    "\n",
    "# documents = [clean(doc).split() for doc in doc_complete]  \n",
    "\n",
    "# [type(doc) for doc in doc_complete]\n",
    "\n",
    "doc_complete"
   ]
  },
  {
   "cell_type": "code",
   "execution_count": 23,
   "id": "02fa70c9-1b59-4f93-86cf-162422f4db1a",
   "metadata": {},
   "outputs": [
    {
     "ename": "TypeError",
     "evalue": "'float' object is not iterable",
     "output_type": "error",
     "traceback": [
      "\u001b[0;31m---------------------------------------------------------------------------\u001b[0m",
      "\u001b[0;31mTypeError\u001b[0m                                 Traceback (most recent call last)",
      "\u001b[0;32m<timed exec>\u001b[0m in \u001b[0;36m<module>\u001b[0;34m\u001b[0m\n",
      "\u001b[0;32m<timed exec>\u001b[0m in \u001b[0;36m<listcomp>\u001b[0;34m(.0)\u001b[0m\n",
      "\u001b[0;32m<timed exec>\u001b[0m in \u001b[0;36mclean\u001b[0;34m(doc)\u001b[0m\n",
      "\u001b[0;31mTypeError\u001b[0m: 'float' object is not iterable"
     ]
    }
   ],
   "source": [
    "%%time\n",
    "# Define the number of topics\n",
    "num_topics = 10\n",
    "\n",
    "# Preprocess your news articles and create a list of documents\n",
    "# Each document should be a list of tokens (words) representing an article\n",
    "\n",
    "stop = set(stopwords.words('english'))\n",
    "exclude = set(string.punctuation)\n",
    "lemma = WordNetLemmatizer()\n",
    "\n",
    "doc_complete = df.head(200)['text_clean'].values.tolist()\n",
    "\n",
    "def clean(doc):\n",
    "    all_str = [i for i in doc if type(i) == 'str']\n",
    "    stop_free = \" \".join([i for i in doc.lower().split() if i not in stop])\n",
    "    punc_free = ''.join(ch for ch in stop_free if ch not in exclude)\n",
    "    normalized = \" \".join(lemma.lemmatize(word) for word in punc_free.split())\n",
    "    return normalized\n",
    "\n",
    "documents = [clean(doc).split() for doc in doc_complete]     \n",
    "\n",
    "\n",
    "\n",
    "# Create a dictionary from the preprocessed documents\n",
    "dictionary = corpora.Dictionary(documents)\n",
    "\n",
    "# Convert the dictionary into a bag-of-words representation\n",
    "corpus = [dictionary.doc2bow(doc) for doc in documents]\n",
    "\n",
    "# Perform LDA modeling using multicore implementation\n",
    "lda_model = LdaMulticore(corpus=corpus, num_topics=num_topics, id2word=dictionary, workers=workers)\n",
    "\n",
    "# Print the most contributing words for each topic\n",
    "for topic in lda_model.print_topics(num_topics=num_topics, num_words=10):\n",
    "    print(topic)"
   ]
  },
  {
   "cell_type": "code",
   "execution_count": 38,
   "id": "074a858d-25b7-435d-a629-0c676e5e611c",
   "metadata": {},
   "outputs": [
    {
     "data": {
      "text/plain": [
       "100"
      ]
     },
     "execution_count": 38,
     "metadata": {},
     "output_type": "execute_result"
    }
   ],
   "source": [
    "len(documents)"
   ]
  },
  {
   "cell_type": "code",
   "execution_count": 32,
   "id": "ba11470b-dd10-4324-918a-95fa381f814c",
   "metadata": {},
   "outputs": [
    {
     "name": "stdout",
     "output_type": "stream",
     "text": [
      "Coherence Score: 0.3524630835654374\n"
     ]
    }
   ],
   "source": [
    "from gensim.models import CoherenceModel\n",
    "\n",
    "# Calculate coherence score\n",
    "coherence_model = CoherenceModel(model=lda_model, texts=documents, dictionary=dictionary, coherence='c_v')\n",
    "coherence_score = coherence_model.get_coherence()\n",
    "\n",
    "# Print the coherence score\n",
    "print(\"Coherence Score:\", coherence_score)\n"
   ]
  },
  {
   "cell_type": "code",
   "execution_count": null,
   "id": "8c6b2080-c678-42a7-9ee6-0443c01b8fe7",
   "metadata": {},
   "outputs": [],
   "source": []
  }
 ],
 "metadata": {
  "environment": {
   "kernel": "python3",
   "name": "pytorch-gpu.1-13.m108",
   "type": "gcloud",
   "uri": "gcr.io/deeplearning-platform-release/pytorch-gpu.1-13:m108"
  },
  "kernelspec": {
   "display_name": "Python 3",
   "language": "python",
   "name": "python3"
  },
  "language_info": {
   "codemirror_mode": {
    "name": "ipython",
    "version": 3
   },
   "file_extension": ".py",
   "mimetype": "text/x-python",
   "name": "python",
   "nbconvert_exporter": "python",
   "pygments_lexer": "ipython3",
   "version": "3.7.12"
  }
 },
 "nbformat": 4,
 "nbformat_minor": 5
}
